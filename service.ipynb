{
 "cells": [
  {
   "cell_type": "code",
   "execution_count": null,
   "id": "a5262438",
   "metadata": {},
   "outputs": [],
   "source": [
    "import pandas as pd\n",
    "import matplotlib.pyplot as plt\n",
    "from matplotlib import rc\n",
    "\n",
    "# matplotlib 한글 폰트 적용\n",
    "\n",
    "rc('font', family='AppleGothic')\n",
    "plt.rcParams['axes.unicode_minus'] = False"
   ]
  },
  {
   "cell_type": "code",
   "execution_count": null,
   "id": "70b22a06",
   "metadata": {},
   "outputs": [],
   "source": [
    "# 데이터셋 불러오기\n",
    "df = pd.read_csv('./myweb/data.csv')\n",
    "df"
   ]
  },
  {
   "cell_type": "code",
   "execution_count": null,
   "id": "882d8399",
   "metadata": {},
   "outputs": [],
   "source": [
    "# 서비스에 필요한 함수 선언\n",
    "\n",
    "def search(drugs, facts):\n",
    "    tmp = [] \n",
    "    for i in range(len(df)):\n",
    "        drugTmp = set(df['취급마약'][i].split(','))\n",
    "        factTmp = set(df['범죄사실'][i].split(','))\n",
    "        drugs = set(drugs)\n",
    "        facts = set(facts) \n",
    "        if drugs == drugTmp:\n",
    "            if facts == factTmp:\n",
    "                tmp.append(i)\n",
    "            elif facts < factTmp:\n",
    "                tmp.append(i)\n",
    "    return df.loc[tmp].reset_index(drop=True)\n",
    "\n",
    "def pieChart(df):\n",
    "    df = df['형종'].value_counts()\n",
    "    y = [df.loc['징역형'], df.loc['집행유예형'], df.loc['벌금형']]\n",
    "        \n",
    "\n",
    "def histChartA(df):\n",
    "    a = []\n",
    "    for i in range(len(df)):\n",
    "        if df['형종'][i] == '징역형':\n",
    "            a.append(df['형량범위'][i])\n",
    "    sentence = ['1년미만', '1년-2년', '2년-3년', '3년-5년', '5년-7년', '7년-10년', '10년이상']\n",
    "    count = [a.count('1년미만'), a.count('1년-2년'), a.count('2년-3년'), a.count('3년-5년'), a.count('5년-7년'), a.count('7년-10년'), a.count('10년이상')]\n",
    "    plt.figure(figsize=(17,5))\n",
    "    plt.bar(sentence, count)\n",
    "    plt.title('징역형 결과 분포')\n",
    "    return plt.show()\n",
    "\n",
    "def histChartB(df):\n",
    "    b = []\n",
    "    for i in range(len(df)):\n",
    "        if df['형종'][i] == '집행유예형':\n",
    "            b.append(df['형량범위'][i])\n",
    "    sentence = ['1년미만', '1년', '2년', '3년', '4년', '5년', '5년이상']\n",
    "    count = [b.count('1년미만'), b.count('1년'), b.count('2년'), b.count('3년'), b.count('4년'), b.count('5년'), b.count('5년이상')]\n",
    "    plt.figure(figsize=(17,5))\n",
    "    plt.bar(sentence, count)\n",
    "    plt.title('집행유예형 결과 분포')\n",
    "    return plt.show()\n",
    "\n",
    "def histChartC(df):\n",
    "    c = []\n",
    "    for i in range(len(df)):\n",
    "        if df['형종'][i] == '벌금형':\n",
    "            c.append(df['형량범위'][i])\n",
    "    sentence = ['1백만원미만', '1백만원-2백만원', '2백만원-3백만원', '3백만원-5백만원', '5백만원-7백만원', '7백만원-1천만원', '1천만원이상']\n",
    "    count = [c.count('1백만원미만'), c.count('1백만원-2백만원'), c.count('2백만원-3백만원'), c.count('3백만원-5백만원'), c.count('5백만원-7백만원'), c.count('7백만원-1천만원'), c.count('1천만원이상')]\n",
    "    plt.figure(figsize=(17,5))\n",
    "    plt.bar(sentence, count)\n",
    "    plt.title('벌금형 결과 분포')\n",
    "    return plt.show()\n",
    "\n",
    "def showResult():\n",
    "    df = search(drugs, facts)\n",
    "    return histChartA(df), histChartB(df), histChartC(df)"
   ]
  },
  {
   "cell_type": "code",
   "execution_count": null,
   "id": "11a42afa",
   "metadata": {},
   "outputs": [],
   "source": [
    "drugs = input('취급한 마약의 이름을 입력하세요(예:대마,필로폰): ').split(',')\n",
    "facts = input('범죄사실을 다음과 같이 입력하세요(예:투약,소지,판매): ').split(',')\n",
    "showResult()"
   ]
  },
  {
   "cell_type": "code",
   "execution_count": null,
   "id": "2bc9e82d",
   "metadata": {},
   "outputs": [],
   "source": [
    "# 데이터 프레임을 sqlite3 DB에 저장\n",
    "\n",
    "import sqlite3\n",
    "\n",
    "con = sqlite3.connect('/Users/kyo/projects/myweb/data.db')\n",
    "\n",
    "df.to_sql('casecard', con, index=False)"
   ]
  }
 ],
 "metadata": {
  "kernelspec": {
   "display_name": "Python 3 (ipykernel)",
   "language": "python",
   "name": "python3"
  },
  "language_info": {
   "codemirror_mode": {
    "name": "ipython",
    "version": 3
   },
   "file_extension": ".py",
   "mimetype": "text/x-python",
   "name": "python",
   "nbconvert_exporter": "python",
   "pygments_lexer": "ipython3",
   "version": "3.9.7"
  }
 },
 "nbformat": 4,
 "nbformat_minor": 5
}
