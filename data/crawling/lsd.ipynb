{
 "cells": [
  {
   "cell_type": "code",
   "execution_count": null,
   "id": "1ca686c6",
   "metadata": {},
   "outputs": [],
   "source": [
    "import time\n",
    "from selenium import webdriver\n",
    "from selenium.webdriver.common.by import By\n",
    "from selenium.webdriver.common.keys import Keys\n",
    "\n",
    "# 크롬드라이버 실행\n",
    "\n",
    "driver = webdriver.Chrome('../../chromedriver')\n",
    "\n",
    "# 크롬 드라이버에 url 주소 넣고 실행\n",
    "\n",
    "driver.get('https://bigcase.ai/login')\n",
    "\n",
    "# 페이지가 완전히 로딩되도록 3초동안 기다림\n",
    "\n",
    "time.sleep(3)\n",
    "\n",
    "# 로그인\n",
    "\n",
    "driver.find_element(By.XPATH, '//*[@id=\"user-email\"]').send_keys('아이디')\n",
    "driver.find_element(By.XPATH, '//*[@id=\"__next\"]/div[1]/div[2]/div/form/div[2]/div/div/input').send_keys('패스워드')\n",
    "driver.find_element(By.XPATH, '//*[@id=\"__next\"]/div[1]/div[2]/div/form/button').click()\n",
    "time.sleep(3)     "
   ]
  },
  {
   "cell_type": "code",
   "execution_count": null,
   "id": "fd49fb4c",
   "metadata": {},
   "outputs": [],
   "source": [
    "# 검색 페이지 이동(검색어: \"LSD\", ~12페이지, 검색조건: 심급=1급)\n",
    "\n",
    "# url 형식\n",
    "\n",
    "url_front = 'https://bigcase.ai/search/case?q=%22LSD%22&page='\n",
    "url_behind = '&level=1'\n",
    "\n",
    "# 데이터를 수집할 빈 리스트 만들기\n",
    "\n",
    "rawdata = []"
   ]
  },
  {
   "cell_type": "code",
   "execution_count": null,
   "id": "bc8665e7",
   "metadata": {},
   "outputs": [],
   "source": [
    "def crawling(page):\n",
    "    \n",
    "    url = url_front + str(page) + url_behind\n",
    "    \n",
    "    # 페이지 이동\n",
    "    \n",
    "    driver.get(url)\n",
    "    time.sleep(3)\n",
    "    \n",
    "    # 데이터 수집\n",
    "    \n",
    "    case_card_list = driver.find_elements(By.CLASS_NAME, 'precedent-card__title-wrap__title')\n",
    "    case_card = driver.find_elements(By.CLASS_NAME, 'layout__side')\n",
    "    pages = driver.find_element(By.CLASS_NAME, 'pagination--number-item')\n",
    "\n",
    "    for i in case_card_list:\n",
    "        i.click()\n",
    "        time.sleep(3)\n",
    "        for j in case_card:\n",
    "            j = j.text\n",
    "            rawdata.append(j)\n",
    "    \n",
    "    return rawdata  "
   ]
  },
  {
   "cell_type": "code",
   "execution_count": null,
   "id": "4622acd8",
   "metadata": {},
   "outputs": [],
   "source": [
    "# 데이터 수집(1~12페이지)\n",
    "\n",
    "for i in range(1, 13):\n",
    "    crawling(i)"
   ]
  },
  {
   "cell_type": "code",
   "execution_count": null,
   "id": "4ed92178",
   "metadata": {},
   "outputs": [],
   "source": [
    "import csv\n",
    "\n",
    "feature = ['판례원본']\n",
    "\n",
    "with open('lsd.csv', 'w', encoding='utf-8-sig', newline='') as f:\n",
    "    write = csv.writer(f)\n",
    "    \n",
    "    write.writerow(feature)\n",
    "    for i in rawdata:\n",
    "        if len(i) < 32767:\n",
    "            write.writerow([i])"
   ]
  },
  {
   "cell_type": "code",
   "execution_count": null,
   "id": "122e111f",
   "metadata": {},
   "outputs": [],
   "source": []
  }
 ],
 "metadata": {
  "kernelspec": {
   "display_name": "Python 3 (ipykernel)",
   "language": "python",
   "name": "python3"
  },
  "language_info": {
   "codemirror_mode": {
    "name": "ipython",
    "version": 3
   },
   "file_extension": ".py",
   "mimetype": "text/x-python",
   "name": "python",
   "nbconvert_exporter": "python",
   "pygments_lexer": "ipython3",
   "version": "3.9.7"
  }
 },
 "nbformat": 4,
 "nbformat_minor": 5
}
