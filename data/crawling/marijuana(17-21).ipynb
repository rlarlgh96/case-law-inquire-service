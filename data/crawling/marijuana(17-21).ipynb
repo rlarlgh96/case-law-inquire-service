{
 "cells": [
  {
   "cell_type": "code",
   "execution_count": 1,
   "id": "d4fe99e2",
   "metadata": {},
   "outputs": [
    {
     "ename": "SessionNotCreatedException",
     "evalue": "Message: session not created: This version of ChromeDriver only supports Chrome version 106\nCurrent browser version is 108.0.5359.71 with binary path /Applications/Google Chrome.app/Contents/MacOS/Google Chrome\n",
     "output_type": "error",
     "traceback": [
      "\u001b[0;31m---------------------------------------------------------------------------\u001b[0m",
      "\u001b[0;31mSessionNotCreatedException\u001b[0m                Traceback (most recent call last)",
      "\u001b[0;32m/var/folders/ns/xfs12xcx4j31nn77rz60mtth0000gn/T/ipykernel_7104/808562949.py\u001b[0m in \u001b[0;36m<module>\u001b[0;34m\u001b[0m\n\u001b[1;32m      6\u001b[0m \u001b[0;31m# 크롬드라이버 실행\u001b[0m\u001b[0;34m\u001b[0m\u001b[0;34m\u001b[0m\u001b[0m\n\u001b[1;32m      7\u001b[0m \u001b[0;34m\u001b[0m\u001b[0m\n\u001b[0;32m----> 8\u001b[0;31m \u001b[0mdriver\u001b[0m \u001b[0;34m=\u001b[0m \u001b[0mwebdriver\u001b[0m\u001b[0;34m.\u001b[0m\u001b[0mChrome\u001b[0m\u001b[0;34m(\u001b[0m\u001b[0;34m'../../chromedriver'\u001b[0m\u001b[0;34m)\u001b[0m\u001b[0;34m\u001b[0m\u001b[0;34m\u001b[0m\u001b[0m\n\u001b[0m\u001b[1;32m      9\u001b[0m \u001b[0;34m\u001b[0m\u001b[0m\n\u001b[1;32m     10\u001b[0m \u001b[0;31m# 크롬 드라이버에 url 주소 넣고 실행\u001b[0m\u001b[0;34m\u001b[0m\u001b[0;34m\u001b[0m\u001b[0m\n",
      "\u001b[0;32m/opt/anaconda3/lib/python3.9/site-packages/selenium/webdriver/chrome/webdriver.py\u001b[0m in \u001b[0;36m__init__\u001b[0;34m(self, executable_path, port, options, service_args, desired_capabilities, service_log_path, chrome_options, keep_alive)\u001b[0m\n\u001b[1;32m     74\u001b[0m \u001b[0;34m\u001b[0m\u001b[0m\n\u001b[1;32m     75\u001b[0m         \u001b[0;32mtry\u001b[0m\u001b[0;34m:\u001b[0m\u001b[0;34m\u001b[0m\u001b[0;34m\u001b[0m\u001b[0m\n\u001b[0;32m---> 76\u001b[0;31m             RemoteWebDriver.__init__(\n\u001b[0m\u001b[1;32m     77\u001b[0m                 \u001b[0mself\u001b[0m\u001b[0;34m,\u001b[0m\u001b[0;34m\u001b[0m\u001b[0;34m\u001b[0m\u001b[0m\n\u001b[1;32m     78\u001b[0m                 command_executor=ChromeRemoteConnection(\n",
      "\u001b[0;32m/opt/anaconda3/lib/python3.9/site-packages/selenium/webdriver/remote/webdriver.py\u001b[0m in \u001b[0;36m__init__\u001b[0;34m(self, command_executor, desired_capabilities, browser_profile, proxy, keep_alive, file_detector, options)\u001b[0m\n\u001b[1;32m    155\u001b[0m             warnings.warn(\"Please use FirefoxOptions to set browser profile\",\n\u001b[1;32m    156\u001b[0m                           DeprecationWarning, stacklevel=2)\n\u001b[0;32m--> 157\u001b[0;31m         \u001b[0mself\u001b[0m\u001b[0;34m.\u001b[0m\u001b[0mstart_session\u001b[0m\u001b[0;34m(\u001b[0m\u001b[0mcapabilities\u001b[0m\u001b[0;34m,\u001b[0m \u001b[0mbrowser_profile\u001b[0m\u001b[0;34m)\u001b[0m\u001b[0;34m\u001b[0m\u001b[0;34m\u001b[0m\u001b[0m\n\u001b[0m\u001b[1;32m    158\u001b[0m         \u001b[0mself\u001b[0m\u001b[0;34m.\u001b[0m\u001b[0m_switch_to\u001b[0m \u001b[0;34m=\u001b[0m \u001b[0mSwitchTo\u001b[0m\u001b[0;34m(\u001b[0m\u001b[0mself\u001b[0m\u001b[0;34m)\u001b[0m\u001b[0;34m\u001b[0m\u001b[0;34m\u001b[0m\u001b[0m\n\u001b[1;32m    159\u001b[0m         \u001b[0mself\u001b[0m\u001b[0;34m.\u001b[0m\u001b[0m_mobile\u001b[0m \u001b[0;34m=\u001b[0m \u001b[0mMobile\u001b[0m\u001b[0;34m(\u001b[0m\u001b[0mself\u001b[0m\u001b[0;34m)\u001b[0m\u001b[0;34m\u001b[0m\u001b[0;34m\u001b[0m\u001b[0m\n",
      "\u001b[0;32m/opt/anaconda3/lib/python3.9/site-packages/selenium/webdriver/remote/webdriver.py\u001b[0m in \u001b[0;36mstart_session\u001b[0;34m(self, capabilities, browser_profile)\u001b[0m\n\u001b[1;32m    250\u001b[0m         parameters = {\"capabilities\": w3c_caps,\n\u001b[1;32m    251\u001b[0m                       \"desiredCapabilities\": capabilities}\n\u001b[0;32m--> 252\u001b[0;31m         \u001b[0mresponse\u001b[0m \u001b[0;34m=\u001b[0m \u001b[0mself\u001b[0m\u001b[0;34m.\u001b[0m\u001b[0mexecute\u001b[0m\u001b[0;34m(\u001b[0m\u001b[0mCommand\u001b[0m\u001b[0;34m.\u001b[0m\u001b[0mNEW_SESSION\u001b[0m\u001b[0;34m,\u001b[0m \u001b[0mparameters\u001b[0m\u001b[0;34m)\u001b[0m\u001b[0;34m\u001b[0m\u001b[0;34m\u001b[0m\u001b[0m\n\u001b[0m\u001b[1;32m    253\u001b[0m         \u001b[0;32mif\u001b[0m \u001b[0;34m'sessionId'\u001b[0m \u001b[0;32mnot\u001b[0m \u001b[0;32min\u001b[0m \u001b[0mresponse\u001b[0m\u001b[0;34m:\u001b[0m\u001b[0;34m\u001b[0m\u001b[0;34m\u001b[0m\u001b[0m\n\u001b[1;32m    254\u001b[0m             \u001b[0mresponse\u001b[0m \u001b[0;34m=\u001b[0m \u001b[0mresponse\u001b[0m\u001b[0;34m[\u001b[0m\u001b[0;34m'value'\u001b[0m\u001b[0;34m]\u001b[0m\u001b[0;34m\u001b[0m\u001b[0;34m\u001b[0m\u001b[0m\n",
      "\u001b[0;32m/opt/anaconda3/lib/python3.9/site-packages/selenium/webdriver/remote/webdriver.py\u001b[0m in \u001b[0;36mexecute\u001b[0;34m(self, driver_command, params)\u001b[0m\n\u001b[1;32m    319\u001b[0m         \u001b[0mresponse\u001b[0m \u001b[0;34m=\u001b[0m \u001b[0mself\u001b[0m\u001b[0;34m.\u001b[0m\u001b[0mcommand_executor\u001b[0m\u001b[0;34m.\u001b[0m\u001b[0mexecute\u001b[0m\u001b[0;34m(\u001b[0m\u001b[0mdriver_command\u001b[0m\u001b[0;34m,\u001b[0m \u001b[0mparams\u001b[0m\u001b[0;34m)\u001b[0m\u001b[0;34m\u001b[0m\u001b[0;34m\u001b[0m\u001b[0m\n\u001b[1;32m    320\u001b[0m         \u001b[0;32mif\u001b[0m \u001b[0mresponse\u001b[0m\u001b[0;34m:\u001b[0m\u001b[0;34m\u001b[0m\u001b[0;34m\u001b[0m\u001b[0m\n\u001b[0;32m--> 321\u001b[0;31m             \u001b[0mself\u001b[0m\u001b[0;34m.\u001b[0m\u001b[0merror_handler\u001b[0m\u001b[0;34m.\u001b[0m\u001b[0mcheck_response\u001b[0m\u001b[0;34m(\u001b[0m\u001b[0mresponse\u001b[0m\u001b[0;34m)\u001b[0m\u001b[0;34m\u001b[0m\u001b[0;34m\u001b[0m\u001b[0m\n\u001b[0m\u001b[1;32m    322\u001b[0m             response['value'] = self._unwrap_value(\n\u001b[1;32m    323\u001b[0m                 response.get('value', None))\n",
      "\u001b[0;32m/opt/anaconda3/lib/python3.9/site-packages/selenium/webdriver/remote/errorhandler.py\u001b[0m in \u001b[0;36mcheck_response\u001b[0;34m(self, response)\u001b[0m\n\u001b[1;32m    240\u001b[0m                 \u001b[0malert_text\u001b[0m \u001b[0;34m=\u001b[0m \u001b[0mvalue\u001b[0m\u001b[0;34m[\u001b[0m\u001b[0;34m'alert'\u001b[0m\u001b[0;34m]\u001b[0m\u001b[0;34m.\u001b[0m\u001b[0mget\u001b[0m\u001b[0;34m(\u001b[0m\u001b[0;34m'text'\u001b[0m\u001b[0;34m)\u001b[0m\u001b[0;34m\u001b[0m\u001b[0;34m\u001b[0m\u001b[0m\n\u001b[1;32m    241\u001b[0m             \u001b[0;32mraise\u001b[0m \u001b[0mexception_class\u001b[0m\u001b[0;34m(\u001b[0m\u001b[0mmessage\u001b[0m\u001b[0;34m,\u001b[0m \u001b[0mscreen\u001b[0m\u001b[0;34m,\u001b[0m \u001b[0mstacktrace\u001b[0m\u001b[0;34m,\u001b[0m \u001b[0malert_text\u001b[0m\u001b[0;34m)\u001b[0m\u001b[0;34m\u001b[0m\u001b[0;34m\u001b[0m\u001b[0m\n\u001b[0;32m--> 242\u001b[0;31m         \u001b[0;32mraise\u001b[0m \u001b[0mexception_class\u001b[0m\u001b[0;34m(\u001b[0m\u001b[0mmessage\u001b[0m\u001b[0;34m,\u001b[0m \u001b[0mscreen\u001b[0m\u001b[0;34m,\u001b[0m \u001b[0mstacktrace\u001b[0m\u001b[0;34m)\u001b[0m\u001b[0;34m\u001b[0m\u001b[0;34m\u001b[0m\u001b[0m\n\u001b[0m\u001b[1;32m    243\u001b[0m \u001b[0;34m\u001b[0m\u001b[0m\n\u001b[1;32m    244\u001b[0m     \u001b[0;32mdef\u001b[0m \u001b[0m_value_or_default\u001b[0m\u001b[0;34m(\u001b[0m\u001b[0mself\u001b[0m\u001b[0;34m,\u001b[0m \u001b[0mobj\u001b[0m\u001b[0;34m,\u001b[0m \u001b[0mkey\u001b[0m\u001b[0;34m,\u001b[0m \u001b[0mdefault\u001b[0m\u001b[0;34m)\u001b[0m\u001b[0;34m:\u001b[0m\u001b[0;34m\u001b[0m\u001b[0;34m\u001b[0m\u001b[0m\n",
      "\u001b[0;31mSessionNotCreatedException\u001b[0m: Message: session not created: This version of ChromeDriver only supports Chrome version 106\nCurrent browser version is 108.0.5359.71 with binary path /Applications/Google Chrome.app/Contents/MacOS/Google Chrome\n"
     ]
    }
   ],
   "source": [
    "import time\n",
    "from selenium import webdriver\n",
    "from selenium.webdriver.common.by import By\n",
    "from selenium.webdriver.common.keys import Keys\n",
    "\n",
    "# 크롬드라이버 실행\n",
    "\n",
    "driver = webdriver.Chrome('../../chromedriver')\n",
    "\n",
    "# 크롬 드라이버에 url 주소 넣고 실행\n",
    "\n",
    "driver.get('https://bigcase.ai/login')\n",
    "\n",
    "# 페이지가 완전히 로딩되도록 3초동안 기다림\n",
    "\n",
    "time.sleep(3)\n",
    "\n",
    "# 로그인\n",
    "\n",
    "driver.find_element(By.XPATH, '//*[@id=\"user-email\"]').send_keys('rlarlgh96@naver.com')\n",
    "driver.find_element(By.XPATH, '//*[@id=\"__next\"]/div[1]/div[2]/div/form/div[2]/div/div/input').send_keys('2015100902rlgh')\n",
    "driver.find_element(By.XPATH, '//*[@id=\"__next\"]/div[1]/div[2]/div/form/button').click()\n",
    "time.sleep(3)     "
   ]
  },
  {
   "cell_type": "code",
   "execution_count": 2,
   "id": "6e267d36",
   "metadata": {},
   "outputs": [],
   "source": [
    "# 검색 페이지 이동(검색어: '\"대마\", \"2021\"', ~30페이지, 검색조건: 심급=1급)\n",
    "\n",
    "# url 형식\n",
    "\n",
    "url_front = 'https://bigcase.ai/search/case?q=%22%EB%8C%80%EB%A7%88%22%2C+%222021%22&page='\n",
    "url_behind = '&level=1'\n",
    "\n",
    "# 데이터를 수집할 빈 리스트 만들기\n",
    "\n",
    "rawdata = []"
   ]
  },
  {
   "cell_type": "code",
   "execution_count": 3,
   "id": "052a32e3",
   "metadata": {},
   "outputs": [],
   "source": [
    "def crawling(page):\n",
    "    \n",
    "    url = url_front + str(page) + url_behind\n",
    "    \n",
    "    # 페이지 이동\n",
    "    \n",
    "    driver.get(url)\n",
    "    time.sleep(3)\n",
    "    \n",
    "    # 데이터 수집\n",
    "    \n",
    "    case_card_list = driver.find_elements(By.CLASS_NAME, 'precedent-card__title-wrap__title')\n",
    "    case_card = driver.find_elements(By.CLASS_NAME, 'layout__side')\n",
    "    pages = driver.find_element(By.CLASS_NAME, 'pagination--number-item')\n",
    "\n",
    "    for i in case_card_list:\n",
    "        i.click()\n",
    "        time.sleep(3)\n",
    "        for j in case_card:\n",
    "            j = j.text\n",
    "            rawdata.append(j)\n",
    "    \n",
    "    return rawdata"
   ]
  },
  {
   "cell_type": "code",
   "execution_count": 4,
   "id": "feaf40b2",
   "metadata": {},
   "outputs": [],
   "source": [
    "# 데이터 수집(1~30페이지)\n",
    "\n",
    "for i in range(1, 31):\n",
    "    crawling(i)"
   ]
  },
  {
   "cell_type": "code",
   "execution_count": 5,
   "id": "118c1c61",
   "metadata": {},
   "outputs": [],
   "source": [
    "# 드라이버 종료\n",
    "\n",
    "driver.close()"
   ]
  },
  {
   "cell_type": "code",
   "execution_count": 6,
   "id": "b41c961e",
   "metadata": {},
   "outputs": [],
   "source": [
    "# 크롬드라이버 실행\n",
    "\n",
    "driver = webdriver.Chrome('../../chromedriver')\n",
    "\n",
    "# 크롬 드라이버에 url 주소 넣고 실행\n",
    "\n",
    "driver.get('https://bigcase.ai/login')\n",
    "\n",
    "# 페이지가 완전히 로딩되도록 3초동안 기다림\n",
    "\n",
    "time.sleep(3)\n",
    "\n",
    "# 로그인\n",
    "\n",
    "driver.find_element(By.XPATH, '//*[@id=\"user-email\"]').send_keys('ehdpahd159@gmail.com')\n",
    "driver.find_element(By.XPATH, '//*[@id=\"__next\"]/div[1]/div[2]/div/form/div[2]/div/div/input').send_keys('Idontcare1@')\n",
    "driver.find_element(By.XPATH, '//*[@id=\"__next\"]/div[1]/div[2]/div/form/button').click()\n",
    "time.sleep(3)   "
   ]
  },
  {
   "cell_type": "code",
   "execution_count": 7,
   "id": "15085ecc",
   "metadata": {},
   "outputs": [],
   "source": [
    "# 검색 페이지 이동(검색어: '\"대마\", \"2020\"', ~30페이지, 검색조건: 심급=1급)\n",
    "\n",
    "# url 형식\n",
    "\n",
    "url_front = 'https://bigcase.ai/search/case?q=%22%EB%8C%80%EB%A7%88%22%2C+%222020%22&page='\n",
    "url_behind = '&level=1'"
   ]
  },
  {
   "cell_type": "code",
   "execution_count": 8,
   "id": "e75094f4",
   "metadata": {},
   "outputs": [],
   "source": [
    "# 데이터 수집(1~30페이지)\n",
    "\n",
    "for i in range(1, 31):\n",
    "    crawling(i)"
   ]
  },
  {
   "cell_type": "code",
   "execution_count": 9,
   "id": "42397ad9",
   "metadata": {},
   "outputs": [],
   "source": [
    "# 드라이버 종료\n",
    "\n",
    "driver.close()"
   ]
  },
  {
   "cell_type": "code",
   "execution_count": 10,
   "id": "5cf30e13",
   "metadata": {},
   "outputs": [],
   "source": [
    "# 크롬드라이버 실행\n",
    "\n",
    "driver = webdriver.Chrome('../../chromedriver')\n",
    "\n",
    "# 크롬 드라이버에 url 주소 넣고 실행\n",
    "\n",
    "driver.get('https://bigcase.ai/login')\n",
    "\n",
    "# 페이지가 완전히 로딩되도록 3초동안 기다림\n",
    "\n",
    "time.sleep(3)\n",
    "\n",
    "# 로그인\n",
    "\n",
    "driver.find_element(By.XPATH, '//*[@id=\"user-email\"]').send_keys('kkh08261020@naver.com')\n",
    "driver.find_element(By.XPATH, '//*[@id=\"__next\"]/div[1]/div[2]/div/form/div[2]/div/div/input').send_keys('kkh0826!')\n",
    "driver.find_element(By.XPATH, '//*[@id=\"__next\"]/div[1]/div[2]/div/form/button').click()\n",
    "time.sleep(3)"
   ]
  },
  {
   "cell_type": "code",
   "execution_count": 11,
   "id": "3545c245",
   "metadata": {},
   "outputs": [],
   "source": [
    "# 검색 페이지 이동(검색어: '\"대마\", \"2019\"', ~30페이지, 검색조건: 심급=1급)\n",
    "\n",
    "# url 형식\n",
    "\n",
    "url_front = 'https://bigcase.ai/search/case?q=%22%EB%8C%80%EB%A7%88%22%2C+%222019%22&page='\n",
    "url_behind = '&level=1'"
   ]
  },
  {
   "cell_type": "code",
   "execution_count": 12,
   "id": "8fe05be1",
   "metadata": {},
   "outputs": [],
   "source": [
    "# 데이터 수집(1~30페이지)\n",
    "\n",
    "for i in range(1, 31):\n",
    "    crawling(i)"
   ]
  },
  {
   "cell_type": "code",
   "execution_count": 13,
   "id": "5ce5f1bb",
   "metadata": {},
   "outputs": [],
   "source": [
    "# 드라이버 종료\n",
    "\n",
    "driver.close()"
   ]
  },
  {
   "cell_type": "code",
   "execution_count": 14,
   "id": "c7edf281",
   "metadata": {},
   "outputs": [],
   "source": [
    "# 크롬드라이버 실행\n",
    "\n",
    "driver = webdriver.Chrome('../../chromedriver')\n",
    "\n",
    "# 크롬 드라이버에 url 주소 넣고 실행\n",
    "\n",
    "driver.get('https://bigcase.ai/login')\n",
    "\n",
    "# 페이지가 완전히 로딩되도록 3초동안 기다림\n",
    "\n",
    "time.sleep(3)\n",
    "\n",
    "# 로그인\n",
    "\n",
    "driver.find_element(By.XPATH, '//*[@id=\"user-email\"]').send_keys('ngjays3035@gmail.com')\n",
    "driver.find_element(By.XPATH, '//*[@id=\"__next\"]/div[1]/div[2]/div/form/div[2]/div/div/input').send_keys('rlarleka2!')\n",
    "driver.find_element(By.XPATH, '//*[@id=\"__next\"]/div[1]/div[2]/div/form/button').click()\n",
    "time.sleep(3)"
   ]
  },
  {
   "cell_type": "code",
   "execution_count": 15,
   "id": "5c576ed6",
   "metadata": {},
   "outputs": [],
   "source": [
    "# 검색 페이지 이동(검색어: '\"대마\", \"2018\"', ~30페이지, 검색조건: 심급=1급)\n",
    "\n",
    "# url 형식\n",
    "\n",
    "url_front = 'https://bigcase.ai/search/case?q=%22%EB%8C%80%EB%A7%88%22%2C+%222018%22&page='\n",
    "url_behind = '&level=1'"
   ]
  },
  {
   "cell_type": "code",
   "execution_count": 16,
   "id": "f7eab9ee",
   "metadata": {},
   "outputs": [],
   "source": [
    "# 데이터 수집(1~30페이지)\n",
    "\n",
    "for i in range(1, 31):\n",
    "    crawling(i)"
   ]
  },
  {
   "cell_type": "code",
   "execution_count": 17,
   "id": "799d8b40",
   "metadata": {},
   "outputs": [],
   "source": [
    "# 드라이버 종료\n",
    "\n",
    "driver.close()"
   ]
  },
  {
   "cell_type": "code",
   "execution_count": 18,
   "id": "c6530f11",
   "metadata": {},
   "outputs": [],
   "source": [
    "# 크롬드라이버 실행\n",
    "\n",
    "driver = webdriver.Chrome('../../chromedriver')\n",
    "\n",
    "# 크롬 드라이버에 url 주소 넣고 실행\n",
    "\n",
    "driver.get('https://bigcase.ai/login')\n",
    "\n",
    "# 페이지가 완전히 로딩되도록 3초동안 기다림\n",
    "\n",
    "time.sleep(3)\n",
    "\n",
    "# 로그인\n",
    "\n",
    "driver.find_element(By.XPATH, '//*[@id=\"user-email\"]').send_keys('rlawnstn3508@naver.com')\n",
    "driver.find_element(By.XPATH, '//*[@id=\"__next\"]/div[1]/div[2]/div/form/div[2]/div/div/input').send_keys('ehd159$!')\n",
    "driver.find_element(By.XPATH, '//*[@id=\"__next\"]/div[1]/div[2]/div/form/button').click()\n",
    "time.sleep(3)"
   ]
  },
  {
   "cell_type": "code",
   "execution_count": 19,
   "id": "abd0b648",
   "metadata": {},
   "outputs": [],
   "source": [
    "# 검색 페이지 이동(검색어: '\"대마\", \"2017\"', ~30페이지, 검색조건: 심급=1급)\n",
    "\n",
    "# url 형식\n",
    "\n",
    "url_front = 'https://bigcase.ai/search/case?q=%22%EB%8C%80%EB%A7%88%22%2C+%222017&page='\n",
    "url_behind = '&level=1'"
   ]
  },
  {
   "cell_type": "code",
   "execution_count": 20,
   "id": "9d2ddf7e",
   "metadata": {},
   "outputs": [],
   "source": [
    "# 데이터 수집(1~30페이지)\n",
    "\n",
    "for i in range(1, 31):\n",
    "    crawling(i)"
   ]
  },
  {
   "cell_type": "code",
   "execution_count": 21,
   "id": "27fe9b4e",
   "metadata": {},
   "outputs": [],
   "source": [
    "# 드라이버 종료\n",
    "\n",
    "driver.close()"
   ]
  },
  {
   "cell_type": "code",
   "execution_count": 22,
   "id": "b3367959",
   "metadata": {},
   "outputs": [],
   "source": [
    "import csv\n",
    "\n",
    "feature = ['판례원본']\n",
    "\n",
    "with open('marijuana.csv', 'w', encoding='utf-8-sig', newline='') as f:\n",
    "    write = csv.writer(f)\n",
    "    \n",
    "    write.writerow(feature)\n",
    "    for i in rawdata:\n",
    "        if len(i) < 32767:\n",
    "            write.writerow([i])"
   ]
  },
  {
   "cell_type": "code",
   "execution_count": null,
   "id": "b08cc864",
   "metadata": {},
   "outputs": [],
   "source": []
  }
 ],
 "metadata": {
  "kernelspec": {
   "display_name": "Python 3 (ipykernel)",
   "language": "python",
   "name": "python3"
  },
  "language_info": {
   "codemirror_mode": {
    "name": "ipython",
    "version": 3
   },
   "file_extension": ".py",
   "mimetype": "text/x-python",
   "name": "python",
   "nbconvert_exporter": "python",
   "pygments_lexer": "ipython3",
   "version": "3.9.7"
  }
 },
 "nbformat": 4,
 "nbformat_minor": 5
}
