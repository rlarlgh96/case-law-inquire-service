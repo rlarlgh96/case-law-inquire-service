{
 "cells": [
  {
   "cell_type": "code",
   "execution_count": 1,
   "id": "d4fe99e2",
   "metadata": {},
   "outputs": [],
   "source": [
    "import time\n",
    "from selenium import webdriver\n",
    "from selenium.webdriver.common.by import By\n",
    "from selenium.webdriver.common.keys import Keys\n",
    "\n",
    "# 크롬드라이버 실행\n",
    "\n",
    "driver = webdriver.Chrome('../../chromedriver')\n",
    "\n",
    "# 크롬 드라이버에 url 주소 넣고 실행\n",
    "\n",
    "driver.get('https://bigcase.ai/login')\n",
    "\n",
    "# 페이지가 완전히 로딩되도록 3초동안 기다림\n",
    "\n",
    "time.sleep(3)\n",
    "\n",
    "# 로그인\n",
    "\n",
    "driver.find_element(By.XPATH, '//*[@id=\"user-email\"]').send_keys('rlarlgh96@naver.com')\n",
    "driver.find_element(By.XPATH, '//*[@id=\"__next\"]/div[1]/div[2]/div/form/div[2]/div/div/input').send_keys('2015100902rlgh')\n",
    "driver.find_element(By.XPATH, '//*[@id=\"__next\"]/div[1]/div[2]/div/form/button').click()\n",
    "time.sleep(3)     "
   ]
  },
  {
   "cell_type": "code",
   "execution_count": 2,
   "id": "6e267d36",
   "metadata": {},
   "outputs": [],
   "source": [
    "# 검색 페이지 이동(검색어: '\"필로폰\", \"2016\"', ~30페이지, 검색조건: 심급=1급\n",
    "\n",
    "# url 형식\n",
    "\n",
    "url_front = 'https://bigcase.ai/search/case?q=%22%ED%95%84%EB%A1%9C%ED%8F%B0%22%2C+%222016%22&page='\n",
    "url_behind = '&level=1'\n",
    "\n",
    "# 데이터를 수집할 빈 리스트 만들기\n",
    "\n",
    "rawdata = []"
   ]
  },
  {
   "cell_type": "code",
   "execution_count": 3,
   "id": "052a32e3",
   "metadata": {},
   "outputs": [],
   "source": [
    "def crawling(page):\n",
    "    \n",
    "    url = url_front + str(page) + url_behind\n",
    "    \n",
    "    # 페이지 이동\n",
    "    \n",
    "    driver.get(url)\n",
    "    time.sleep(3)\n",
    "    \n",
    "    # 데이터 수집\n",
    "    \n",
    "    case_card_list = driver.find_elements(By.CLASS_NAME, 'precedent-card__title-wrap__title')\n",
    "    case_card = driver.find_elements(By.CLASS_NAME, 'layout__side')\n",
    "    pages = driver.find_element(By.CLASS_NAME, 'pagination--number-item')\n",
    "\n",
    "    for i in case_card_list:\n",
    "        i.click()\n",
    "        time.sleep(3)\n",
    "        for j in case_card:\n",
    "            j = j.text\n",
    "            rawdata.append(j)\n",
    "    \n",
    "    return rawdata"
   ]
  },
  {
   "cell_type": "code",
   "execution_count": 4,
   "id": "feaf40b2",
   "metadata": {},
   "outputs": [],
   "source": [
    "# 데이터 수집(1~30페이지)\n",
    "\n",
    "for i in range(1, 31):\n",
    "    crawling(i)"
   ]
  },
  {
   "cell_type": "code",
   "execution_count": 5,
   "id": "118c1c61",
   "metadata": {},
   "outputs": [],
   "source": [
    "# 드라이버 종료\n",
    "\n",
    "driver.close()"
   ]
  },
  {
   "cell_type": "code",
   "execution_count": 6,
   "id": "b41c961e",
   "metadata": {},
   "outputs": [],
   "source": [
    "# 크롬드라이버 실행\n",
    "\n",
    "driver = webdriver.Chrome('../../chromedriver')\n",
    "\n",
    "# 크롬 드라이버에 url 주소 넣고 실행\n",
    "\n",
    "driver.get('https://bigcase.ai/login')\n",
    "\n",
    "# 페이지가 완전히 로딩되도록 3초동안 기다림\n",
    "\n",
    "time.sleep(3)\n",
    "\n",
    "# 로그인\n",
    "\n",
    "driver.find_element(By.XPATH, '//*[@id=\"user-email\"]').send_keys('ehdpahd159@gmail.com')\n",
    "driver.find_element(By.XPATH, '//*[@id=\"__next\"]/div[1]/div[2]/div/form/div[2]/div/div/input').send_keys('Idontcare1@')\n",
    "driver.find_element(By.XPATH, '//*[@id=\"__next\"]/div[1]/div[2]/div/form/button').click()\n",
    "time.sleep(3)   "
   ]
  },
  {
   "cell_type": "code",
   "execution_count": 7,
   "id": "15085ecc",
   "metadata": {},
   "outputs": [],
   "source": [
    "# 검색 페이지 이동(검색어: '\"필로폰\", \"2015\"', ~30페이지, 검색조건: 심급=1급)\n",
    "\n",
    "# url 형식\n",
    "\n",
    "url_front = 'https://bigcase.ai/search/case?q=%22%ED%95%84%EB%A1%9C%ED%8F%B0%22%2C+%222015%22&page='\n",
    "url_behind = '&level=1'"
   ]
  },
  {
   "cell_type": "code",
   "execution_count": 8,
   "id": "e75094f4",
   "metadata": {},
   "outputs": [],
   "source": [
    "# 데이터 수집(1~30페이지)\n",
    "\n",
    "for i in range(1, 31):\n",
    "    crawling(i)"
   ]
  },
  {
   "cell_type": "code",
   "execution_count": 9,
   "id": "42397ad9",
   "metadata": {},
   "outputs": [],
   "source": [
    "# 드라이버 종료\n",
    "\n",
    "driver.close()"
   ]
  },
  {
   "cell_type": "code",
   "execution_count": 10,
   "id": "5cf30e13",
   "metadata": {},
   "outputs": [],
   "source": [
    "# 크롬드라이버 실행\n",
    "\n",
    "driver = webdriver.Chrome('../../chromedriver')\n",
    "\n",
    "# 크롬 드라이버에 url 주소 넣고 실행\n",
    "\n",
    "driver.get('https://bigcase.ai/login')\n",
    "\n",
    "# 페이지가 완전히 로딩되도록 3초동안 기다림\n",
    "\n",
    "time.sleep(3)\n",
    "\n",
    "# 로그인\n",
    "\n",
    "driver.find_element(By.XPATH, '//*[@id=\"user-email\"]').send_keys('kkh08261020@naver.com')\n",
    "driver.find_element(By.XPATH, '//*[@id=\"__next\"]/div[1]/div[2]/div/form/div[2]/div/div/input').send_keys('kkh0826!')\n",
    "driver.find_element(By.XPATH, '//*[@id=\"__next\"]/div[1]/div[2]/div/form/button').click()\n",
    "time.sleep(3)"
   ]
  },
  {
   "cell_type": "code",
   "execution_count": 11,
   "id": "3545c245",
   "metadata": {},
   "outputs": [],
   "source": [
    "# 검색 페이지 이동(검색어: '\"필로폰\", \"2014\"', ~30페이지, 검색조건: 심급=1급)\n",
    "\n",
    "# url 형식\n",
    "\n",
    "url_front = 'https://bigcase.ai/search/case?q=%22%ED%95%84%EB%A1%9C%ED%8F%B0%22%2C+%222014%22&page='\n",
    "url_behind = '&level=1'"
   ]
  },
  {
   "cell_type": "code",
   "execution_count": 12,
   "id": "8fe05be1",
   "metadata": {},
   "outputs": [],
   "source": [
    "# 데이터 수집(1~30페이지)\n",
    "\n",
    "for i in range(1, 31):\n",
    "    crawling(i)"
   ]
  },
  {
   "cell_type": "code",
   "execution_count": 13,
   "id": "5ce5f1bb",
   "metadata": {},
   "outputs": [],
   "source": [
    "# 드라이버 종료\n",
    "\n",
    "driver.close()"
   ]
  },
  {
   "cell_type": "code",
   "execution_count": 14,
   "id": "c7edf281",
   "metadata": {},
   "outputs": [],
   "source": [
    "# 크롬드라이버 실행\n",
    "\n",
    "driver = webdriver.Chrome('../../chromedriver')\n",
    "\n",
    "# 크롬 드라이버에 url 주소 넣고 실행\n",
    "\n",
    "driver.get('https://bigcase.ai/login')\n",
    "\n",
    "# 페이지가 완전히 로딩되도록 3초동안 기다림\n",
    "\n",
    "time.sleep(3)\n",
    "\n",
    "# 로그인\n",
    "\n",
    "driver.find_element(By.XPATH, '//*[@id=\"user-email\"]').send_keys('ngjays3035@gmail.com')\n",
    "driver.find_element(By.XPATH, '//*[@id=\"__next\"]/div[1]/div[2]/div/form/div[2]/div/div/input').send_keys('rlarleka2!')\n",
    "driver.find_element(By.XPATH, '//*[@id=\"__next\"]/div[1]/div[2]/div/form/button').click()\n",
    "time.sleep(3)"
   ]
  },
  {
   "cell_type": "code",
   "execution_count": 15,
   "id": "5c576ed6",
   "metadata": {},
   "outputs": [],
   "source": [
    "# 검색 페이지 이동(검색어: '\"필로폰\", \"2013\"', ~30페이지, 검색조건: 심급=1급)\n",
    "\n",
    "# url 형식\n",
    "\n",
    "url_front = 'https://bigcase.ai/search/case?q=%22%ED%95%84%EB%A1%9C%ED%8F%B0%22%2C+%222013%22&page='\n",
    "url_behind = '&level=1'"
   ]
  },
  {
   "cell_type": "code",
   "execution_count": 16,
   "id": "f7eab9ee",
   "metadata": {},
   "outputs": [],
   "source": [
    "# 데이터 수집(1~30페이지)\n",
    "\n",
    "for i in range(1, 31):\n",
    "    crawling(i)"
   ]
  },
  {
   "cell_type": "code",
   "execution_count": 17,
   "id": "799d8b40",
   "metadata": {},
   "outputs": [],
   "source": [
    "# 드라이버 종료\n",
    "\n",
    "driver.close()"
   ]
  },
  {
   "cell_type": "code",
   "execution_count": 18,
   "id": "b8760292",
   "metadata": {},
   "outputs": [],
   "source": [
    "# 크롬드라이버 실행\n",
    "\n",
    "driver = webdriver.Chrome('../../chromedriver')\n",
    "\n",
    "# 크롬 드라이버에 url 주소 넣고 실행\n",
    "\n",
    "driver.get('https://bigcase.ai/login')\n",
    "\n",
    "# 페이지가 완전히 로딩되도록 3초동안 기다림\n",
    "\n",
    "time.sleep(3)\n",
    "\n",
    "# 로그인\n",
    "\n",
    "driver.find_element(By.XPATH, '//*[@id=\"user-email\"]').send_keys('rlawnstn3508@naver.com')\n",
    "driver.find_element(By.XPATH, '//*[@id=\"__next\"]/div[1]/div[2]/div/form/div[2]/div/div/input').send_keys('ehd159$!')\n",
    "driver.find_element(By.XPATH, '//*[@id=\"__next\"]/div[1]/div[2]/div/form/button').click()\n",
    "time.sleep(3)"
   ]
  },
  {
   "cell_type": "code",
   "execution_count": 19,
   "id": "8fdff091",
   "metadata": {},
   "outputs": [],
   "source": [
    "# 검색 페이지 이동(검색어: '\"필로폰\", \"2012\"', ~30페이지, 검색조건: 심급=1급)\n",
    "\n",
    "# url 형식\n",
    "\n",
    "url_front = 'https://bigcase.ai/search/case?q=%22%ED%95%84%EB%A1%9C%ED%8F%B0%22%2C+%222012%22&page='\n",
    "url_behind = '&level=1'"
   ]
  },
  {
   "cell_type": "code",
   "execution_count": 20,
   "id": "5bb524a9",
   "metadata": {},
   "outputs": [],
   "source": [
    "# 데이터 수집(1~30페이지)\n",
    "\n",
    "for i in range(1, 31):\n",
    "    crawling(i)"
   ]
  },
  {
   "cell_type": "code",
   "execution_count": 21,
   "id": "c5450b49",
   "metadata": {},
   "outputs": [],
   "source": [
    "# 드라이버 종료\n",
    "\n",
    "driver.close()"
   ]
  },
  {
   "cell_type": "code",
   "execution_count": 22,
   "id": "b3367959",
   "metadata": {},
   "outputs": [],
   "source": [
    "import csv\n",
    "\n",
    "\n",
    "with open('meth.csv', 'a', encoding='utf-8-sig', newline='') as f:\n",
    "    write = csv.writer(f)\n",
    "    \n",
    "    for i in rawdata:\n",
    "        if len(i) < 32767:\n",
    "            write.writerow([i])"
   ]
  },
  {
   "cell_type": "code",
   "execution_count": null,
   "id": "2ccd90b1",
   "metadata": {},
   "outputs": [],
   "source": []
  },
  {
   "cell_type": "code",
   "execution_count": null,
   "id": "5fea4f98",
   "metadata": {},
   "outputs": [],
   "source": []
  }
 ],
 "metadata": {
  "kernelspec": {
   "display_name": "Python 3 (ipykernel)",
   "language": "python",
   "name": "python3"
  },
  "language_info": {
   "codemirror_mode": {
    "name": "ipython",
    "version": 3
   },
   "file_extension": ".py",
   "mimetype": "text/x-python",
   "name": "python",
   "nbconvert_exporter": "python",
   "pygments_lexer": "ipython3",
   "version": "3.9.7"
  }
 },
 "nbformat": 4,
 "nbformat_minor": 5
}
